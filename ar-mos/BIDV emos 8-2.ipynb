{
 "cells": [
  {
   "cell_type": "code",
   "execution_count": 1,
   "metadata": {},
   "outputs": [],
   "source": [
    "import numpy as np\n",
    "import pandas as pd\n",
    "from sklearn.linear_model import LinearRegression\n",
    "from sklearn.ensemble import RandomForestRegressor, GradientBoostingRegressor\n",
    "from sklearn.metrics import mean_absolute_error, mean_squared_error\n",
    "import matplotlib.pyplot as plt\n",
    "from sklearn.metrics import mean_squared_error\n",
    "from sklearn.model_selection import train_test_split\n",
    "from sklearn.metrics import mean_squared_error, mean_absolute_error, mean_absolute_percentage_error\n",
    "import matplotlib.pyplot as plt\n",
    "from sklearn.preprocessing import StandardScaler\n",
    "from scipy.optimize import minimize\n",
    "from statsmodels.tsa.ar_model import AutoReg"
   ]
  },
  {
   "cell_type": "code",
   "execution_count": 2,
   "metadata": {},
   "outputs": [],
   "source": [
    "# Đọc file và tiền xử lí dữ liệu\n",
    "df = pd.read_csv('../data/BIDV.csv')\n",
    "# Tiền xử lí dữ liệu\n",
    "# Hàm chuyển đổi \"Vol.\" từ chuỗi sang số\n",
    "def convert_volume_to_number(volume_str):\n",
    "    if volume_str[-1] == 'K':\n",
    "        return int(float(volume_str[:-1]) * 1000)\n",
    "    elif volume_str[-1] == 'M':\n",
    "        return int(float(volume_str[:-1]) * 1000000)\n",
    "    elif volume_str[-1] == 'B':\n",
    "        return int(float(volume_str[:-1]) * 1000000000)\n",
    "    else:\n",
    "        return int(volume_str)\n",
    "    \n",
    "# Áp dụng hàm chuyển đổi cho cột \"Vol.\"\n",
    "df[\"Vol.\"] = df[\"Vol.\"].apply(convert_volume_to_number)\n",
    "\n",
    "# Hàm chuyển đổi \"Change %\" từ chuỗi sang số\n",
    "def convert_change_to_number(change_str):\n",
    "    new_change = float(change_str.strip('%')) / 100\n",
    "    return new_change\n",
    "\n",
    "# Áp dụng hàm chuyển đổi cho cột \"Change %\"\n",
    "df[\"Change %\"] = df[\"Change %\"].apply(convert_change_to_number)\n",
    "\n",
    "# Hàm chuyển giá từ chuỗi sang số\n",
    "def convert_str_to_number(str):\n",
    "    return float(str.replace(',', ''))\n",
    "\n",
    "# Áp dụng hàm chuyển đổi cho các cột giá trị\n",
    "df['Price'] = df['Price'].apply(convert_str_to_number)\n",
    "df['Open'] = df['Open'].apply(convert_str_to_number)\n",
    "df['High'] = df['High'].apply(convert_str_to_number)\n",
    "df['Low'] = df['Low'].apply(convert_str_to_number)\n",
    "# Convert the Date column to datetime\n",
    "df['Date'] = pd.to_datetime(df['Date'])\n",
    "# Create a new column 'Day' as the number of days since the start date\n",
    "df['Day'] = (df['Date'] - df['Date'].min()).dt.days"
   ]
  },
  {
   "cell_type": "code",
   "execution_count": 3,
   "metadata": {},
   "outputs": [
    {
     "name": "stdout",
     "output_type": "stream",
     "text": [
      "MAE: 35802.51404535741\n",
      "RMSE: 36055.44035243192\n",
      "MAPE: 1.24370310417752\n"
     ]
    }
   ],
   "source": [
    "# Prepare features and target\n",
    "X = df[['Day']]\n",
    "y = df['Price']\n",
    "\n",
    "# \n",
    "X_train, X_test, y_train, y_test = train_test_split(X, y, test_size=0.2, shuffle=False)\n",
    "# \n",
    "models = {\n",
    "    \"Linear Regression\": LinearRegression(),\n",
    "    \"Random Forest\": RandomForestRegressor(n_estimators=100, random_state=42),\n",
    "    \"Gradient Boosting\": GradientBoostingRegressor(n_estimators=100, random_state=42)\n",
    "}\n",
    "\n",
    "# Train models\n",
    "for model_name, model in models.items():\n",
    "    model.fit(X_train, y_train)\n",
    "\n",
    "# Make predictions\n",
    "predictions = {model_name: model.predict(X_test) for model_name, model in models.items()}\n",
    "\n",
    "# tính trọng số\n",
    "def calculate_weights(models, X_test, y_test):\n",
    "    errors = {}\n",
    "    for model_name, model in models.items():\n",
    "        y_pred = model.predict(X_test)\n",
    "        errors[model_name] = np.mean(np.abs((y_test - y_pred) / y_test))\n",
    "    total_error = sum(errors.values())\n",
    "    weights = {model_name: (1 - error / total_error) for model_name, error in errors.items()}\n",
    "    return weights\n",
    "\n",
    "weights = calculate_weights(models, X_test, y_test)\n",
    "\n",
    "# Calculate weighted average predictions\n",
    "combined_predictions = np.zeros(len(X_test))\n",
    "for model_name, prediction in predictions.items():\n",
    "    combined_predictions += weights[model_name] * prediction\n",
    "\n",
    "# Calculate evaluation metrics\n",
    "mae = mean_absolute_error(y_test, combined_predictions)\n",
    "mse = mean_squared_error(y_test, combined_predictions)\n",
    "mape = np.mean(np.abs((y_test - combined_predictions) / y_test))\n",
    "rmse = np.sqrt(mse)\n",
    "print(f\"MAE: {mae}\")\n",
    "print(f\"RMSE: {rmse}\")\n",
    "print(f\"MAPE: {mape}\")\n"
   ]
  },
  {
   "cell_type": "code",
   "execution_count": 4,
   "metadata": {},
   "outputs": [
    {
     "ename": "SyntaxError",
     "evalue": "invalid syntax (1321176434.py, line 13)",
     "output_type": "error",
     "traceback": [
      "\u001b[1;36m  Cell \u001b[1;32mIn[4], line 13\u001b[1;36m\u001b[0m\n\u001b[1;33m    future_predictions[days] =\u001b[0m\n\u001b[1;37m                               ^\u001b[0m\n\u001b[1;31mSyntaxError\u001b[0m\u001b[1;31m:\u001b[0m invalid syntax\n"
     ]
    }
   ],
   "source": [
    "# Predict the future 'Close' prices for 30, 60, and 90 days\n",
    "future_days = [30, 60, 90]\n",
    "future_predictions = {}\n",
    "\n",
    "last_day = X['Day'].max()\n",
    "for days in future_days:\n",
    "    future_X = np.array([last_day + i for i in range(1, days + 1)]).reshape(-1, 1)\n",
    "    future_combined_predictions = np.zeros(len(future_X))\n",
    "    for model_name, model in models.items():\n",
    "        future_combined_predictions += weights[model_name] * model.predict(future_X)\n",
    "\n",
    "    future_predictions[days] = future_combined_predictions\n",
    "\n",
    "# Print daily predictions for 30, 60, and 90 days\n",
    "for days, prediction in future_predictions.items():\n",
    "    print(f\"Predictions for the next {days} days: {prediction}\")\n",
    "\n",
    "# Plotting the results\n",
    "plt.figure(figsize=(14, 8))\n",
    "plt.plot(df['Date'], y, label='Actual Close Prices')\n",
    "\n",
    "# Plot train and test sets\n",
    "plt.plot(df['Date'][:len(X_train)], y_train, label='Train Set', color='blue')\n",
    "plt.plot(df['Date'][len(X_train):], y_test, label='Test Set', color='green')\n",
    "\n",
    "# Plot future predictions\n",
    "for days, prediction in future_predictions.items():\n",
    "    future_dates = [df['Date'].max() + pd.Timedelta(days=i) for i in range(1, days + 1)]\n",
    "    plt.plot(future_dates, prediction, label=f'Prediction for {days} days')\n",
    "\n",
    "plt.xlabel('Date')\n",
    "plt.ylabel('Close Price')\n",
    "plt.title('Close Price Predictions with SEMOS and Data Splits')\n",
    "plt.legend()\n",
    "plt.show()"
   ]
  }
 ],
 "metadata": {
  "kernelspec": {
   "display_name": "Python 3",
   "language": "python",
   "name": "python3"
  },
  "language_info": {
   "codemirror_mode": {
    "name": "ipython",
    "version": 3
   },
   "file_extension": ".py",
   "mimetype": "text/x-python",
   "name": "python",
   "nbconvert_exporter": "python",
   "pygments_lexer": "ipython3",
   "version": "3.11.8"
  }
 },
 "nbformat": 4,
 "nbformat_minor": 2
}
